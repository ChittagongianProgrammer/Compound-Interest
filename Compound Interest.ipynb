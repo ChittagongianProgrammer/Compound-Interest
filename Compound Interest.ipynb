{
 "cells": [
  {
   "cell_type": "markdown",
   "metadata": {},
   "source": [
    "Compound Interest Calculator"
   ]
  },
  {
   "cell_type": "code",
   "execution_count": null,
   "metadata": {},
   "outputs": [],
   "source": [
    "p = float(input(\"How much do you want to deposit?:\" )) # pounds\n",
    "n = 12 # months in a year\n",
    "r = 0.08 # interest rate of 8%\n",
    "t = int(input(\"How many years do you want to store your bread: \" )) # Time the money is away for\n",
    "\n",
    "inside = (1 + (r/n))\n",
    "\n",
    "monthly_compound = n * t\n",
    "\n",
    "amount = p * float(inside) ** int(monthly_compound)\n",
    "\n",
    "final_amount = print(f\"Your amount is: £{amount:,.2f}.\")"
   ]
  }
 ],
 "metadata": {
  "kernelspec": {
   "display_name": "Python 3",
   "language": "python",
   "name": "python3"
  },
  "language_info": {
   "codemirror_mode": {
    "name": "ipython",
    "version": 3
   },
   "file_extension": ".py",
   "mimetype": "text/x-python",
   "name": "python",
   "nbconvert_exporter": "python",
   "pygments_lexer": "ipython3",
   "version": "3.11.7"
  }
 },
 "nbformat": 4,
 "nbformat_minor": 2
}
